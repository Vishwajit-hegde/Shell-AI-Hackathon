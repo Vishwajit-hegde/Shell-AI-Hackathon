{
 "cells": [
  {
   "cell_type": "code",
   "execution_count": 5,
   "metadata": {},
   "outputs": [],
   "source": [
    "import numpy as np\n",
    "from Farm_Evaluator_Vec import *\n",
    "import pandas as pd\n",
    "import matplotlib.pyplot as plt\n",
    "%matplotlib inline"
   ]
  },
  {
   "cell_type": "code",
   "execution_count": 2,
   "metadata": {},
   "outputs": [],
   "source": [
    "power_curve  =  loadPowerCurve('Shell_Hackathon Dataset/power_curve.csv')\n",
    "n_wind_instances, cos_dir, sin_dir, wind_sped_stacked, C_t = preProcessing(power_curve)\n",
    "wind_inst_freq =  binWindResourceData('Shell_Hackathon Dataset/Wind Data/combined_data.csv')\n",
    "turb_specs = {'Name': 'Anon Name','Vendor': 'Anon Vendor','Type': 'Anon Type','Dia (m)': 100,\n",
    "              'Rotor Area (m2)': 7853,'Hub Height (m)': 100,'Cut-in Wind Speed (m/s)': 3.5,'Cut-out Wind Speed (m/s)': 25,\n",
    "              'Rated Wind Speed (m/s)': 15,'Rated Power (MW)': 3}\n",
    "def get_aep(coords):\n",
    "    AEP = getAEP(50, coords, power_curve, wind_inst_freq, \n",
    "                  n_wind_instances, cos_dir, sin_dir, wind_sped_stacked, C_t,0)  \n",
    "    return AEP"
   ]
  },
  {
   "cell_type": "code",
   "execution_count": 3,
   "metadata": {},
   "outputs": [],
   "source": [
    "def plot_turbines(coords):\n",
    "    plt.figure(figsize=(10,10))\n",
    "    plt.scatter(coords[:,0],coords[:,1],color='r',s=200)\n",
    "    plt.show()"
   ]
  },
  {
   "cell_type": "code",
   "execution_count": 40,
   "metadata": {},
   "outputs": [
    {
     "data": {
      "text/plain": [
       "<matplotlib.collections.PathCollection at 0x119a64c18>"
      ]
     },
     "execution_count": 40,
     "metadata": {},
     "output_type": "execute_result"
    },
    {
     "data": {
      "image/png": "[encoded data removed]",
      "text/plain": [
       "<Figure size 432x288 with 1 Axes>"
      ]
     },
     "metadata": {
      "needs_background": "light"
     },
     "output_type": "display_data"
    }
   ],
   "source": [
    "##Create geometric pattern\n",
    "n = 6\n",
    "R = 5\n",
    "r = R/n\n",
    "k = R/20\n",
    "theta = np.linspace(0,2*np.pi,500,endpoint=False)\n",
    "x = (R-r)*np.cos(theta) + k*np.cos((R-r)*theta/r)\n",
    "y = (R-r)*np.sin(theta) - k*np.sin((R-r)*theta/r)\n",
    "plt.scatter(x,y,s=5)"
   ]
  },
  {
   "cell_type": "code",
   "execution_count": null,
   "metadata": {},
   "outputs": [],
   "source": []
  }
 ],
 "metadata": {
  "kernelspec": {
   "display_name": "Python 3",
   "language": "python",
   "name": "python3"
  },
  "language_info": {
   "codemirror_mode": {
    "name": "ipython",
    "version": 3
   },
   "file_extension": ".py",
   "mimetype": "text/x-python",
   "name": "python",
   "nbconvert_exporter": "python",
   "pygments_lexer": "ipython3",
   "version": "3.7.3"
  }
 },
 "nbformat": 4,
 "nbformat_minor": 4
}
