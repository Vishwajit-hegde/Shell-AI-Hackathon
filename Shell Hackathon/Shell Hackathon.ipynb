{
 "cells": [
  {
   "cell_type": "code",
   "execution_count": null,
   "metadata": {},
   "outputs": [],
   "source": [
    "import numpy as np\n",
    "import pandas as pd\n",
    "from Farm_Evaluator_Vec import *\n",
    "import matplotlib.pyplot as plt\n",
    "%matplotlib inline"
   ]
  },
  {
   "cell_type": "code",
   "execution_count": null,
   "metadata": {},
   "outputs": [],
   "source": [
    "test = pd.read_csv('Shell_Hackathon Dataset/turbine_loc_test.csv')"
   ]
  },
  {
   "cell_type": "code",
   "execution_count": null,
   "metadata": {
    "scrolled": true
   },
   "outputs": [],
   "source": [
    "test"
   ]
  },
  {
   "cell_type": "code",
   "execution_count": null,
   "metadata": {},
   "outputs": [],
   "source": [
    "def plot_turbines(X,Y):\n",
    "    plt.figure(figsize=(10,10))\n",
    "    plt.scatter(X,Y,color='r',marker='x',s=200)\n",
    "    plt.show()"
   ]
  },
  {
   "cell_type": "code",
   "execution_count": null,
   "metadata": {},
   "outputs": [],
   "source": [
    "plot_turbines(test.values[:,0],test.values[:,1])"
   ]
  },
  {
   "cell_type": "code",
   "execution_count": null,
   "metadata": {},
   "outputs": [],
   "source": [
    "X=np.linspace(50,3950,10)\n",
    "Y=np.linspace(50,3950,10)\n",
    "coords = []\n",
    "for x in X:\n",
    "    for y in Y:\n",
    "        coords.append([x,y])\n",
    "coords = np.array(coords)\n",
    "c = []\n",
    "for i in range(100):\n",
    "    if (i//10)%2==0:\n",
    "        if i%2==0:\n",
    "            c.append(i)\n",
    "    elif (i//10)%2==1:\n",
    "        if i%2==1:\n",
    "            c.append(i)\n",
    "co = []\n",
    "for i in c:\n",
    "    co.append(coords[i])\n",
    "co = np.array(co)"
   ]
  },
  {
   "cell_type": "code",
   "execution_count": null,
   "metadata": {},
   "outputs": [],
   "source": [
    "co[1,:] = [50,50] "
   ]
  },
  {
   "cell_type": "code",
   "execution_count": null,
   "metadata": {},
   "outputs": [],
   "source": [
    "turb_specs    =  {   \n",
    "                     'Name': 'Anon Name',\n",
    "                     'Vendor': 'Anon Vendor',\n",
    "                     'Type': 'Anon Type',\n",
    "                     'Dia (m)': 100,\n",
    "                     'Rotor Area (m2)': 7853,\n",
    "                     'Hub Height (m)': 100,\n",
    "                     'Cut-in Wind Speed (m/s)': 3.5,\n",
    "                     'Cut-out Wind Speed (m/s)': 25,\n",
    "                     'Rated Wind Speed (m/s)': 15,\n",
    "                     'Rated Power (MW)': 3\n",
    "    \n",
    "                 }\n",
    "turb_diam  =  turb_specs['Dia (m)']\n",
    "turb_rad   =  turb_diam/2 \n",
    "\n",
    "# Turbine x,y coordinates\n",
    "turb_coords = test.values\n",
    "turb_coords = co\n",
    "# Load the power curve\n",
    "power_curve  =  loadPowerCurve('Shell_Hackathon Dataset/power_curve.csv')\n",
    "\n",
    "# Pass wind data csv file location to function binWindResourceData.\n",
    "# Retrieve probabilities of wind instance occurence.\n",
    "wind_inst_freq =  binWindResourceData('Shell_Hackathon Dataset/Wind Data/wind_data_2007.csv')   \n",
    "\n",
    "# Doing preprocessing to avoid the same repeating calculations. Record \n",
    "# the required data for calculations. Do that once. Data are set up (shaped)\n",
    "# to assist vectorization. Used later in function totalAEP.\n",
    "n_wind_instances, cos_dir, sin_dir, wind_sped_stacked, C_t = preProcessing(power_curve)\n",
    "\n",
    "# check if there is any constraint is violated before we do anything. Comment \n",
    "# out the function call to checkConstraints below if you desire. Note that \n",
    "# this is just a check and the function does not quantifies the amount by \n",
    "# which the constraints are violated if any. \n",
    "checkConstraints(turb_coords, turb_diam)\n",
    "print('Calculating AEP......')\n",
    "AEP = getAEP(turb_rad, turb_coords, power_curve, wind_inst_freq, \n",
    "              n_wind_instances, cos_dir, sin_dir, wind_sped_stacked, C_t) \n",
    "print('Total power produced by the wind farm is: ', \"%.12f\"%(AEP), 'GWh')"
   ]
  },
  {
   "cell_type": "code",
   "execution_count": null,
   "metadata": {},
   "outputs": [],
   "source": []
  }
 ],
 "metadata": {
  "kernelspec": {
   "display_name": "Python 3",
   "language": "python",
   "name": "python3"
  },
  "language_info": {
   "codemirror_mode": {
    "name": "ipython",
    "version": 3
   },
   "file_extension": ".py",
   "mimetype": "text/x-python",
   "name": "python",
   "nbconvert_exporter": "python",
   "pygments_lexer": "ipython3",
   "version": "3.7.3"
  }
 },
 "nbformat": 4,
 "nbformat_minor": 4
}
