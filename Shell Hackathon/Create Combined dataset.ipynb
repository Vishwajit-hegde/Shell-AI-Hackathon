{
 "cells": [
  {
   "cell_type": "code",
   "execution_count": 1,
   "metadata": {},
   "outputs": [],
   "source": [
    "import numpy as np\n",
    "import pandas as pd\n",
    "from Farm_Evaluator_Vec import *"
   ]
  },
  {
   "cell_type": "code",
   "execution_count": 5,
   "metadata": {},
   "outputs": [],
   "source": [
    "wind = {}\n",
    "for y in [2007,2008,2009,2013,2014,2015,2017]:\n",
    "    wind[y] = pd.read_csv('Shell_Hackathon Dataset/Wind Data/wind_data_'+str(y)+'.csv',index_col='date')"
   ]
  },
  {
   "cell_type": "code",
   "execution_count": 6,
   "metadata": {},
   "outputs": [
    {
     "data": {
      "text/html": [
       "<div>\n",
       "<style scoped>\n",
       "    .dataframe tbody tr th:only-of-type {\n",
       "        vertical-align: middle;\n",
       "    }\n",
       "\n",
       "    .dataframe tbody tr th {\n",
       "        vertical-align: top;\n",
       "    }\n",
       "\n",
       "    .dataframe thead th {\n",
       "        text-align: right;\n",
       "    }\n",
       "</style>\n",
       "<table border=\"1\" class=\"dataframe\">\n",
       "  <thead>\n",
       "    <tr style=\"text-align: right;\">\n",
       "      <th></th>\n",
       "      <th>drct</th>\n",
       "      <th>sped</th>\n",
       "    </tr>\n",
       "    <tr>\n",
       "      <th>date</th>\n",
       "      <th></th>\n",
       "      <th></th>\n",
       "    </tr>\n",
       "  </thead>\n",
       "  <tbody>\n",
       "    <tr>\n",
       "      <th>2007-01-01 00:20</th>\n",
       "      <td>290.0</td>\n",
       "      <td>12.829798</td>\n",
       "    </tr>\n",
       "    <tr>\n",
       "      <th>2007-01-01 00:50</th>\n",
       "      <td>290.0</td>\n",
       "      <td>15.842659</td>\n",
       "    </tr>\n",
       "    <tr>\n",
       "      <th>2007-01-01 01:20</th>\n",
       "      <td>290.0</td>\n",
       "      <td>15.270610</td>\n",
       "    </tr>\n",
       "    <tr>\n",
       "      <th>2007-01-01 01:50</th>\n",
       "      <td>300.0</td>\n",
       "      <td>13.332094</td>\n",
       "    </tr>\n",
       "    <tr>\n",
       "      <th>2007-01-01 02:20</th>\n",
       "      <td>290.0</td>\n",
       "      <td>12.639211</td>\n",
       "    </tr>\n",
       "    <tr>\n",
       "      <th>...</th>\n",
       "      <td>...</td>\n",
       "      <td>...</td>\n",
       "    </tr>\n",
       "    <tr>\n",
       "      <th>2007-12-30 21:50</th>\n",
       "      <td>170.0</td>\n",
       "      <td>12.461807</td>\n",
       "    </tr>\n",
       "    <tr>\n",
       "      <th>2007-12-30 22:20</th>\n",
       "      <td>170.0</td>\n",
       "      <td>12.974947</td>\n",
       "    </tr>\n",
       "    <tr>\n",
       "      <th>2007-12-30 22:50</th>\n",
       "      <td>170.0</td>\n",
       "      <td>13.068684</td>\n",
       "    </tr>\n",
       "    <tr>\n",
       "      <th>2007-12-30 23:20</th>\n",
       "      <td>170.0</td>\n",
       "      <td>11.542264</td>\n",
       "    </tr>\n",
       "    <tr>\n",
       "      <th>2007-12-30 23:50</th>\n",
       "      <td>160.0</td>\n",
       "      <td>11.655424</td>\n",
       "    </tr>\n",
       "  </tbody>\n",
       "</table>\n",
       "<p>15548 rows × 2 columns</p>\n",
       "</div>"
      ],
      "text/plain": [
       "                   drct       sped\n",
       "date                              \n",
       "2007-01-01 00:20  290.0  12.829798\n",
       "2007-01-01 00:50  290.0  15.842659\n",
       "2007-01-01 01:20  290.0  15.270610\n",
       "2007-01-01 01:50  300.0  13.332094\n",
       "2007-01-01 02:20  290.0  12.639211\n",
       "...                 ...        ...\n",
       "2007-12-30 21:50  170.0  12.461807\n",
       "2007-12-30 22:20  170.0  12.974947\n",
       "2007-12-30 22:50  170.0  13.068684\n",
       "2007-12-30 23:20  170.0  11.542264\n",
       "2007-12-30 23:50  160.0  11.655424\n",
       "\n",
       "[15548 rows x 2 columns]"
      ]
     },
     "execution_count": 6,
     "metadata": {},
     "output_type": "execute_result"
    }
   ],
   "source": [
    "wind[2007]"
   ]
  },
  {
   "cell_type": "code",
   "execution_count": 9,
   "metadata": {},
   "outputs": [],
   "source": [
    "combined_data = pd.DataFrame(columns=['drct','sped'])\n",
    "for y in [2007,2008,2009,2013,2014,2015,2017]:\n",
    "    combined_data = pd.concat([combined_data,wind[y]])"
   ]
  },
  {
   "cell_type": "code",
   "execution_count": 2,
   "metadata": {},
   "outputs": [
    {
     "data": {
      "text/plain": [
       "True"
      ]
     },
     "execution_count": 2,
     "metadata": {},
     "output_type": "execute_result"
    }
   ],
   "source": [
    "'12' in '1234'"
   ]
  },
  {
   "cell_type": "code",
   "execution_count": 5,
   "metadata": {},
   "outputs": [
    {
     "data": {
      "text/plain": [
       "[0, 4]"
      ]
     },
     "execution_count": 5,
     "metadata": {},
     "output_type": "execute_result"
    }
   ],
   "source": [
    "max([[-1,2],[0,4]])"
   ]
  },
  {
   "cell_type": "code",
   "execution_count": 10,
   "metadata": {},
   "outputs": [
    {
     "data": {
      "text/html": [
       "<div>\n",
       "<style scoped>\n",
       "    .dataframe tbody tr th:only-of-type {\n",
       "        vertical-align: middle;\n",
       "    }\n",
       "\n",
       "    .dataframe tbody tr th {\n",
       "        vertical-align: top;\n",
       "    }\n",
       "\n",
       "    .dataframe thead th {\n",
       "        text-align: right;\n",
       "    }\n",
       "</style>\n",
       "<table border=\"1\" class=\"dataframe\">\n",
       "  <thead>\n",
       "    <tr style=\"text-align: right;\">\n",
       "      <th></th>\n",
       "      <th>drct</th>\n",
       "      <th>sped</th>\n",
       "    </tr>\n",
       "  </thead>\n",
       "  <tbody>\n",
       "    <tr>\n",
       "      <th>2007-01-01 00:20</th>\n",
       "      <td>290.0</td>\n",
       "      <td>12.829798</td>\n",
       "    </tr>\n",
       "    <tr>\n",
       "      <th>2007-01-01 00:50</th>\n",
       "      <td>290.0</td>\n",
       "      <td>15.842659</td>\n",
       "    </tr>\n",
       "    <tr>\n",
       "      <th>2007-01-01 01:20</th>\n",
       "      <td>290.0</td>\n",
       "      <td>15.270610</td>\n",
       "    </tr>\n",
       "    <tr>\n",
       "      <th>2007-01-01 01:50</th>\n",
       "      <td>300.0</td>\n",
       "      <td>13.332094</td>\n",
       "    </tr>\n",
       "    <tr>\n",
       "      <th>2007-01-01 02:20</th>\n",
       "      <td>290.0</td>\n",
       "      <td>12.639211</td>\n",
       "    </tr>\n",
       "    <tr>\n",
       "      <th>...</th>\n",
       "      <td>...</td>\n",
       "      <td>...</td>\n",
       "    </tr>\n",
       "    <tr>\n",
       "      <th>2017-12-30 21:50</th>\n",
       "      <td>220.0</td>\n",
       "      <td>1.974951</td>\n",
       "    </tr>\n",
       "    <tr>\n",
       "      <th>2017-12-30 22:20</th>\n",
       "      <td>180.0</td>\n",
       "      <td>2.330232</td>\n",
       "    </tr>\n",
       "    <tr>\n",
       "      <th>2017-12-30 22:50</th>\n",
       "      <td>160.0</td>\n",
       "      <td>5.427657</td>\n",
       "    </tr>\n",
       "    <tr>\n",
       "      <th>2017-12-30 23:20</th>\n",
       "      <td>170.0</td>\n",
       "      <td>6.016653</td>\n",
       "    </tr>\n",
       "    <tr>\n",
       "      <th>2017-12-30 23:50</th>\n",
       "      <td>150.0</td>\n",
       "      <td>4.661694</td>\n",
       "    </tr>\n",
       "  </tbody>\n",
       "</table>\n",
       "<p>113113 rows × 2 columns</p>\n",
       "</div>"
      ],
      "text/plain": [
       "                   drct       sped\n",
       "2007-01-01 00:20  290.0  12.829798\n",
       "2007-01-01 00:50  290.0  15.842659\n",
       "2007-01-01 01:20  290.0  15.270610\n",
       "2007-01-01 01:50  300.0  13.332094\n",
       "2007-01-01 02:20  290.0  12.639211\n",
       "...                 ...        ...\n",
       "2017-12-30 21:50  220.0   1.974951\n",
       "2017-12-30 22:20  180.0   2.330232\n",
       "2017-12-30 22:50  160.0   5.427657\n",
       "2017-12-30 23:20  170.0   6.016653\n",
       "2017-12-30 23:50  150.0   4.661694\n",
       "\n",
       "[113113 rows x 2 columns]"
      ]
     },
     "execution_count": 10,
     "metadata": {},
     "output_type": "execute_result"
    }
   ],
   "source": [
    "combined_data"
   ]
  },
  {
   "cell_type": "code",
   "execution_count": 11,
   "metadata": {},
   "outputs": [],
   "source": [
    "combined_data.to_csv('Shell_Hackathon Dataset/Wind Data/combined_data.csv')"
   ]
  },
  {
   "cell_type": "code",
   "execution_count": 26,
   "metadata": {},
   "outputs": [],
   "source": [
    "power_curve  =  loadPowerCurve('Shell_Hackathon Dataset/power_curve.csv')\n",
    "n_wind_instances, cos_dir, sin_dir, wind_sped_stacked, C_t = preProcessing(power_curve)\n",
    "turb_specs = {   \n",
    "                 'Name': 'Anon Name',\n",
    "                 'Vendor': 'Anon Vendor',\n",
    "                 'Type': 'Anon Type',\n",
    "                 'Dia (m)': 100,\n",
    "                 'Rotor Area (m2)': 7853,\n",
    "                 'Hub Height (m)': 100,\n",
    "                 'Cut-in Wind Speed (m/s)': 3.5,\n",
    "                 'Cut-out Wind Speed (m/s)': 25,\n",
    "                 'Rated Wind Speed (m/s)': 15,\n",
    "                 'Rated Power (MW)': 3\n",
    "             }\n",
    "turb_diam  =  turb_specs['Dia (m)']\n",
    "turb_rad   =  turb_diam/2\n",
    "wind_inst_freq =  binWindResourceData('Shell_Hackathon Dataset/Wind Data/combined_data.csv')\n",
    "coords = pd.read_csv('Shell_Hackathon Dataset/turbine_loc_test.csv').values\n",
    "AEP = getAEP(turb_rad, coords, power_curve, wind_inst_freq, \n",
    "              n_wind_instances, cos_dir, sin_dir, wind_sped_stacked, C_t)"
   ]
  },
  {
   "cell_type": "code",
   "execution_count": 22,
   "metadata": {},
   "outputs": [
    {
     "name": "stdout",
     "output_type": "stream",
     "text": [
      "53.2 ms ± 1.94 ms per loop (mean ± std. dev. of 7 runs, 10 loops each)\n"
     ]
    }
   ],
   "source": [
    "#wind_inst_freq =  binWindResourceData('Shell_Hackathon Dataset/Wind Data/combined_data.csv')\n",
    "#coords = pd.read_csv('Shell_Hackathon Dataset/turbine_loc_test.csv').values\n",
    "%timeit AEP = getAEP(turb_rad, coords, power_curve, wind_inst_freq, n_wind_instances, cos_dir, sin_dir, wind_sped_stacked, C_t)"
   ]
  },
  {
   "cell_type": "code",
   "execution_count": 24,
   "metadata": {},
   "outputs": [],
   "source": [
    "mean_AEP = 0\n",
    "for y in [2007,2008,2009,2013,2014,2015,2017]:\n",
    "    wind_inst_freq =  binWindResourceData('Shell_Hackathon Dataset/Wind Data/wind_data_'+str(y)+'.csv')\n",
    "    AEP = getAEP(turb_rad, coords, power_curve, wind_inst_freq, \n",
    "              n_wind_instances, cos_dir, sin_dir, wind_sped_stacked, C_t)\n",
    "    mean_AEP += AEP"
   ]
  },
  {
   "cell_type": "code",
   "execution_count": 25,
   "metadata": {},
   "outputs": [
    {
     "data": {
      "text/plain": [
       "498.3410086277553"
      ]
     },
     "execution_count": 25,
     "metadata": {},
     "output_type": "execute_result"
    }
   ],
   "source": [
    "mean_AEP/7"
   ]
  },
  {
   "cell_type": "code",
   "execution_count": 36,
   "metadata": {},
   "outputs": [],
   "source": [
    "l = []\n",
    "x = np.array([[1,2],[2,3]])\n",
    "l.append(x.tolist())"
   ]
  },
  {
   "cell_type": "code",
   "execution_count": 37,
   "metadata": {},
   "outputs": [],
   "source": [
    "l.append(x.tolist())"
   ]
  },
  {
   "cell_type": "code",
   "execution_count": 38,
   "metadata": {},
   "outputs": [
    {
     "data": {
      "text/plain": [
       "[[[1, 2], [2, 3]], [[1, 2], [2, 3]]]"
      ]
     },
     "execution_count": 38,
     "metadata": {},
     "output_type": "execute_result"
    }
   ],
   "source": [
    "l"
   ]
  },
  {
   "cell_type": "code",
   "execution_count": null,
   "metadata": {},
   "outputs": [],
   "source": [
    "def get_p_best(X,t,Obj_vals,p=0.05):\n",
    "    Np = len(X)\n",
    "    P = Np*p\n",
    "    inds = np.argsort(Obj_vals[t])[-P:]\n",
    "    p_best = np.random.choice(inds,1)[0]\n",
    "    return X[p_best]"
   ]
  }
 ],
 "metadata": {
  "kernelspec": {
   "display_name": "Python 3",
   "language": "python",
   "name": "python3"
  },
  "language_info": {
   "codemirror_mode": {
    "name": "ipython",
    "version": 3
   },
   "file_extension": ".py",
   "mimetype": "text/x-python",
   "name": "python",
   "nbconvert_exporter": "python",
   "pygments_lexer": "ipython3",
   "version": "3.7.3"
  }
 },
 "nbformat": 4,
 "nbformat_minor": 4
}
